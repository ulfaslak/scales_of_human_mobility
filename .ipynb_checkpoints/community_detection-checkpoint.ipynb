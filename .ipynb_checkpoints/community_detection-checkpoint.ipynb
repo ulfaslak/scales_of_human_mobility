{
 "cells": [
  {
   "cell_type": "markdown",
   "metadata": {},
   "source": [
    "# Imports"
   ]
  },
  {
   "cell_type": "code",
   "execution_count": 59,
   "metadata": {
    "ExecuteTime": {
     "end_time": "2018-04-08T21:57:04.062566Z",
     "start_time": "2018-04-08T21:57:03.557702Z"
    }
   },
   "outputs": [],
   "source": [
    "from utils import data as udata\n",
    "from utils import geo as ugeo\n",
    "\n",
    "import calendar as cal\n",
    "import pandas as pd\n",
    "import numpy as np\n",
    "from collections import defaultdict, Counter\n",
    "import matplotlib.pylab as plt\n",
    "import networkx as nx"
   ]
  },
  {
   "cell_type": "markdown",
   "metadata": {},
   "source": [
    "# Data"
   ]
  },
  {
   "cell_type": "markdown",
   "metadata": {},
   "source": [
    "## Pull"
   ]
  },
  {
   "cell_type": "code",
   "execution_count": 5,
   "metadata": {
    "ExecuteTime": {
     "end_time": "2018-04-08T21:28:05.344802Z",
     "start_time": "2018-04-08T21:26:25.646012Z"
    }
   },
   "outputs": [],
   "source": [
    "# Get a list of all periods like ['january_2013', 'february_2013', ...]\n",
    "all_periods = [\n",
    "    \"%s_%s\" % (month.lower(), year)\n",
    "    for year in [\"2013\", \"2014\", \"2015\", \"2016\"]\n",
    "    for month in [cal.month_name[m] for m in range(1, 13)]\n",
    "]\n",
    "\n",
    "# Put all location events into `df_locations`\n",
    "df_locations = udata.get_datatype_period(\"location\", all_periods, sort=True)\n",
    "\n",
    "# Extract users from dataset\n",
    "users = np.sort(df_locations['user'].unique())"
   ]
  },
  {
   "cell_type": "markdown",
   "metadata": {},
   "source": [
    "## Label"
   ]
  },
  {
   "cell_type": "code",
   "execution_count": 27,
   "metadata": {
    "ExecuteTime": {
     "end_time": "2018-04-08T21:40:00.346027Z",
     "start_time": "2018-04-08T21:37:58.320553Z"
    }
   },
   "outputs": [
    {
     "name": "stderr",
     "output_type": "stream",
     "text": [
      "/opt/conda/lib/python3.6/site-packages/sklearn/decomposition/pca.py:398: RuntimeWarning: invalid value encountered in true_divide\n",
      "  explained_variance_ratio_ = explained_variance_ / total_var\n",
      "/home/ulfaslak@gmail.com/projects/scales_of_human_mobility/utils/geo.py:164: RuntimeWarning: invalid value encountered in true_divide\n",
      "  def _norm_dist(p):\n",
      "/opt/conda/lib/python3.6/site-packages/numpy/core/_methods.py:26: RuntimeWarning: invalid value encountered in reduce\n",
      "  return umr_maximum(a, axis, None, out, keepdims)\n"
     ]
    }
   ],
   "source": [
    "# Choose a user\n",
    "u = 317\n",
    "\n",
    "# Extract user coordinates\n",
    "df_u = df_locations.loc[df_locations['user'] == u]\n",
    "coords_u = np.array(df_u.loc[:, ['lat', 'lon', 'timestamp']])\n",
    "\n",
    "# Get stop location labels for each GPS point\n",
    "labels = ugeo.get_stop_location_labels(coords_u[:, :2])\n",
    "\n",
    "# Stack labels onto coordinate array\n",
    "coords_u = np.hstack([coords_u, labels.reshape(-1, 1)])"
   ]
  },
  {
   "cell_type": "code",
   "execution_count": 58,
   "metadata": {
    "ExecuteTime": {
     "end_time": "2018-04-08T21:56:33.554097Z",
     "start_time": "2018-04-08T21:56:33.519601Z"
    }
   },
   "outputs": [
    {
     "data": {
      "text/plain": [
       "Counter({-883800.0: 1,\n",
       "         -710100.0: 1,\n",
       "         -443700.0: 1,\n",
       "         -293400.0: 1,\n",
       "         -60300.0: 1,\n",
       "         -56700.0: 1,\n",
       "         -47700.0: 1,\n",
       "         -44100.0: 1,\n",
       "         -32400.0: 1,\n",
       "         -31500.0: 1,\n",
       "         -28800.0: 1,\n",
       "         -27000.0: 3,\n",
       "         -23400.0: 1,\n",
       "         -21600.0: 1,\n",
       "         -16200.0: 1,\n",
       "         -15300.0: 3,\n",
       "         -14400.0: 1,\n",
       "         -13500.0: 2,\n",
       "         -12600.0: 1,\n",
       "         -11700.0: 2,\n",
       "         -10800.0: 6,\n",
       "         -9900.0: 3,\n",
       "         -9000.0: 4,\n",
       "         -8100.0: 7,\n",
       "         -7200.0: 6,\n",
       "         -6300.0: 5,\n",
       "         -5400.0: 7,\n",
       "         -4500.0: 119,\n",
       "         -3600.0: 330,\n",
       "         -2700.0: 31,\n",
       "         -1800.0: 47,\n",
       "         -900.0: 70734,\n",
       "         0.0: 880})"
      ]
     },
     "execution_count": 58,
     "metadata": {},
     "output_type": "execute_result"
    }
   ],
   "source": [
    "Counter(coords_u[:-1, 2] - coords_u[1:, 2])"
   ]
  },
  {
   "cell_type": "markdown",
   "metadata": {},
   "source": [
    "# Analysis"
   ]
  },
  {
   "cell_type": "markdown",
   "metadata": {},
   "source": [
    "## Lauras paper"
   ]
  },
  {
   "cell_type": "code",
   "execution_count": 31,
   "metadata": {
    "ExecuteTime": {
     "end_time": "2018-04-08T21:49:39.542172Z",
     "start_time": "2018-04-08T21:49:09.925940Z"
    }
   },
   "outputs": [],
   "source": [
    "x, y, z, c = [], [], [], 0\n",
    "for i, l in enumerate(labels):\n",
    "    if l not in labels[:i]:\n",
    "        c += 1\n",
    "    x.append(i/96)\n",
    "    y.append(c)\n",
    "    z.append(len(set(labels[max(0, i-96*7*4):i])))"
   ]
  },
  {
   "cell_type": "code",
   "execution_count": 34,
   "metadata": {
    "ExecuteTime": {
     "end_time": "2018-04-08T21:49:46.526799Z",
     "start_time": "2018-04-08T21:49:46.178580Z"
    }
   },
   "outputs": [
    {
     "data": {
      "image/png": "[encoded data removed]",
      "text/plain": [
       "<matplotlib.figure.Figure at 0x7f7a47b80780>"
      ]
     },
     "metadata": {},
     "output_type": "display_data"
    }
   ],
   "source": [
    "plt.plot(x, y)\n",
    "plt.show()"
   ]
  },
  {
   "cell_type": "code",
   "execution_count": 33,
   "metadata": {
    "ExecuteTime": {
     "end_time": "2018-04-08T21:49:41.812966Z",
     "start_time": "2018-04-08T21:49:41.466561Z"
    }
   },
   "outputs": [
    {
     "data": {
      "image/png": "[encoded data removed]",
      "text/plain": [
       "<matplotlib.figure.Figure at 0x7f7a47b80828>"
      ]
     },
     "metadata": {},
     "output_type": "display_data"
    }
   ],
   "source": [
    "plt.plot(x, z)\n",
    "plt.show()"
   ]
  },
  {
   "cell_type": "markdown",
   "metadata": {
    "ExecuteTime": {
     "end_time": "2018-04-08T21:16:49.375714Z",
     "start_time": "2018-04-08T21:16:49.368619Z"
    }
   },
   "source": [
    "## Graph"
   ]
  },
  {
   "cell_type": "code",
   "execution_count": 62,
   "metadata": {
    "ExecuteTime": {
     "end_time": "2018-04-08T21:57:37.899973Z",
     "start_time": "2018-04-08T21:57:37.891718Z"
    }
   },
   "outputs": [
    {
     "name": "stdout",
     "output_type": "stream",
     "text": [
      "0 [5.57825569e+01 1.23903953e+01 1.37798640e+09 0.00000000e+00]\n"
     ]
    }
   ],
   "source": [
    "G = nx.DiGraph()\n",
    "for i, node in enumerate(coords_u):\n",
    "    "
   ]
  },
  {
   "cell_type": "code",
   "execution_count": null,
   "metadata": {},
   "outputs": [],
   "source": []
  }
 ],
 "metadata": {
  "kernelspec": {
   "display_name": "Python 2",
   "language": "python",
   "name": "python2"
  },
  "language_info": {
   "codemirror_mode": {
    "name": "ipython",
    "version": 3
   },
   "file_extension": ".py",
   "mimetype": "text/x-python",
   "name": "python",
   "nbconvert_exporter": "python",
   "pygments_lexer": "ipython3",
   "version": "3.6.3"
  },
  "nav_menu": {},
  "toc": {
   "navigate_menu": true,
   "number_sections": true,
   "sideBar": true,
   "threshold": 6,
   "toc_cell": false,
   "toc_section_display": "block",
   "toc_window_display": false
  }
 },
 "nbformat": 4,
 "nbformat_minor": 2
}
