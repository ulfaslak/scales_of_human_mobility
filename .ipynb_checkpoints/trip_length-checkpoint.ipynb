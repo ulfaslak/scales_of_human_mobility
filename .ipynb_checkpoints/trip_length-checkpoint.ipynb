{
 "cells": [
  {
   "cell_type": "markdown",
   "metadata": {},
   "source": [
    "Preliminary investigation of trip length. Initial assumption was that trip length should scale as a power law. Conclusively, this is not the case. If we measure the distance between consecutive stationary events these appear to be drawn from a multimodal distribution with four major modes. This is best visualized when trip length is measured in kilometers and the distance axis is scaled logarithmically.\n",
    "\n",
    "It is astounding that we get these results even when we aggregate trips of the whole population, discarding all information about who took what trips. This is likely because the population is demographically and behaviorally homogeneous."
   ]
  },
  {
   "cell_type": "markdown",
   "metadata": {},
   "source": [
    "# Imports"
   ]
  },
  {
   "cell_type": "code",
   "execution_count": 1,
   "metadata": {
    "ExecuteTime": {
     "end_time": "2018-03-06T12:02:10.343364Z",
     "start_time": "2018-03-06T12:02:07.397142Z"
    }
   },
   "outputs": [],
   "source": [
    "%matplotlib inline\n",
    "from sensible_raw.loaders import loader\n",
    "import pandas as pd\n",
    "import numpy as np\n",
    "import datetime, pytz\n",
    "import calendar as cal\n",
    "from collections import Counter\n",
    "import matplotlib.pylab as plt\n",
    "from datetime import datetime as dt"
   ]
  },
  {
   "cell_type": "markdown",
   "metadata": {},
   "source": [
    "# Utility functions"
   ]
  },
  {
   "cell_type": "code",
   "execution_count": 2,
   "metadata": {
    "ExecuteTime": {
     "end_time": "2018-03-06T12:02:10.624318Z",
     "start_time": "2018-03-06T12:02:10.346630Z"
    }
   },
   "outputs": [],
   "source": [
    "def haversine(coord1, coord2):\n",
    "    \"\"\"Haversine distance between two sets of coordinates.\"\"\"\n",
    "    def _to_rad(degrees):\n",
    "        return degrees * 2 * np.pi / 360.\n",
    "    \n",
    "    lat1, lat2 = _to_rad(coord1[:, 0]), _to_rad(coord2[:, 0])\n",
    "    dlat = _to_rad(coord1[:, 0] - coord2[:, 0])\n",
    "    dlon = _to_rad(coord1[:, 1] - coord2[:, 1])\n",
    "\n",
    "    a = np.sin(dlat / 2) ** 2 + \\\n",
    "        np.cos(lat1) * np.cos(lat2) * \\\n",
    "        np.sin(dlon / 2) ** 2\n",
    "    c = 2 * np.arctan2(np.sqrt(a), np.sqrt(1-a)) \n",
    "    return 6371e3 * c  # Metersw\n",
    "\n",
    "def plt_log_hist(v, **kwargs):\n",
    "    \"\"\"Make logplot of histogram.\n",
    "\n",
    "    Input\n",
    "    -----\n",
    "        v : array of values\n",
    "        bins : int or array (use int)\n",
    "    \"\"\"\n",
    "    # Handle input paramaters\n",
    "    bins = kwargs.get('bins', 10)\n",
    "    if 'bins' in kwargs:\n",
    "        del kwargs['bins']\n",
    "    \n",
    "    # Construct log-bins\n",
    "    if min(v) == 0:\n",
    "        v = (np.array(v) + 0.01)\n",
    "    logbins = np.logspace(np.log10(min(v)), np.log10(max(v)), bins)\n",
    "\n",
    "    # Plot\n",
    "    plt.hist(v, bins=logbins, **kwargs)\n",
    "    plt.xscale(\"log\")\n",
    "    \n",
    "def CCDF(X, steps=100, log_steps=False, normed=False, eps=1e-2):\n",
    "    \"\"\"Calculate the survival distribution (CCDF) simply by counting the occurence. \n",
    "\n",
    "    Input:\n",
    "    ------\n",
    "    X : 1d numpy array of datapoints \n",
    "    steps : number of steps to evaluate the function in (int)\n",
    "    log_steps : whether to make step evaluation log spaces or not (bool)\n",
    "\n",
    "    Return: \n",
    "    -------\n",
    "    args_CCDF : sorted version of X\n",
    "    vals_CCDF : for each value x of X, counts normalized value of how many values are >= x\n",
    "    \"\"\"\n",
    "    X = np.array(X)\n",
    "    \n",
    "    # Adjust parameters\n",
    "    if normed:\n",
    "        norm = float(np.size(X))\n",
    "    else:\n",
    "        norm = 1\n",
    "    \n",
    "    if log_steps:\n",
    "        if X.min() < 0:\n",
    "            raise Exception(\"Can't use log steps for negative numbers. Translating to postive with 0.1 as minumum.\")\n",
    "        if X.min() > 0: eps = 0\n",
    "        args_CCDF = np.logspace(np.log10(X.min() + eps), np.log10(X.max() + eps), steps)\n",
    "    else:\n",
    "        args_CCDF = np.linspace(X.min(), X.max(), steps)\n",
    "\n",
    "    # Calculate CCDF\n",
    "    vals_CCDF = np.array([np.size(X[X >= i]) / norm for i in args_CCDF])\n",
    "    plt.plot(args_CCDF, vals_CCDF)\n",
    "    return args_CCDF, vals_CCDF\n",
    "\n",
    "def get_datatype_period(datatype, period):\n",
    "    \"\"\"Get data for a datatype and list of periods.\"\"\"\n",
    "    df = pd.DataFrame()\n",
    "    for month in period:\n",
    "        columns, data = loader.load_data(datatype, month)\n",
    "        df = pd.concat([df, pd.DataFrame(dict(zip(columns, data)))])\n",
    "    return df"
   ]
  },
  {
   "cell_type": "markdown",
   "metadata": {},
   "source": [
    "# Data"
   ]
  },
  {
   "cell_type": "code",
   "execution_count": 3,
   "metadata": {
    "ExecuteTime": {
     "end_time": "2018-03-06T12:02:11.412068Z",
     "start_time": "2018-03-06T12:02:11.404307Z"
    }
   },
   "outputs": [],
   "source": [
    "all_periods = [\n",
    "    \"%s_%s\" % (month.lower(), year)\n",
    "    for year in [\"2013\", \"2014\", \"2015\", \"2016\"]\n",
    "    for month in [cal.month_name[m] for m in range(1, 13)]\n",
    "]"
   ]
  },
  {
   "cell_type": "code",
   "execution_count": 4,
   "metadata": {
    "ExecuteTime": {
     "end_time": "2018-03-06T12:02:19.146420Z",
     "start_time": "2018-03-06T12:02:11.897294Z"
    }
   },
   "outputs": [],
   "source": [
    "# Get a list of all periods like ['january_2013', 'february_2013', ...]\n",
    "all_periods = [\n",
    "    \"%s_%s\" % (month.lower(), year)\n",
    "    for year in [\"2013\", \"2014\", \"2015\", \"2016\"]\n",
    "    for month in [cal.month_name[m] for m in range(1, 13)]\n",
    "]\n",
    "\n",
    "# Put all stop-location events into `df_stops`\n",
    "df_stops = get_datatype_period(\"stop_locations\", all_periods)\n",
    "\n",
    "# Extract users from dataset\n",
    "users = np.sort(df_stops['user'].unique())"
   ]
  },
  {
   "cell_type": "markdown",
   "metadata": {},
   "source": [
    "# Population level"
   ]
  },
  {
   "cell_type": "markdown",
   "metadata": {},
   "source": [
    "Aggreate all trips into a single list and visualize their distribution on multiple scales. I find that when measuring distance in the kilometer unit and on a logarithmic scale, **there are four very clear log-normal modes of trip distance** in the population."
   ]
  },
  {
   "cell_type": "markdown",
   "metadata": {},
   "source": [
    "## Computation"
   ]
  },
  {
   "cell_type": "code",
   "execution_count": 5,
   "metadata": {
    "ExecuteTime": {
     "end_time": "2018-03-06T12:02:23.456926Z",
     "start_time": "2018-03-06T12:02:19.148934Z"
    }
   },
   "outputs": [],
   "source": [
    "# Compute trip distances for all users\n",
    "distances = np.array([])\n",
    "for u in users:\n",
    "    coords_u = np.array(df_stops.loc[df_stops['user'] == u].sort_values(\"timestamp\")[['lat', 'lon']])\n",
    "    distances = np.append(\n",
    "        distances,\n",
    "        haversine(coords_u[:-1, :], coords_u[1:, :])\n",
    "    )"
   ]
  },
  {
   "cell_type": "markdown",
   "metadata": {},
   "source": [
    "## Visualization"
   ]
  },
  {
   "cell_type": "code",
   "execution_count": 24,
   "metadata": {
    "ExecuteTime": {
     "end_time": "2018-03-06T12:12:41.248732Z",
     "start_time": "2018-03-06T12:12:41.223978Z"
    }
   },
   "outputs": [],
   "source": [
    "def plt_log_hist(v, **kwargs):\n",
    "    \"\"\"Make logplot of histogram.\n",
    "\n",
    "    Input\n",
    "    -----\n",
    "        v : array of values\n",
    "        bins : int or array (use int)\n",
    "    \"\"\"\n",
    "    # Handle input paramaters\n",
    "    bins = kwargs.get('bins', 10)\n",
    "    if 'bins' in kwargs:\n",
    "        del kwargs['bins']\n",
    "    \n",
    "    # Construct log-bins\n",
    "    if min(v) == 0:\n",
    "        v = (np.array(v) + 0.01)\n",
    "    logbins = np.logspace(np.log10(min(v)), np.log10(max(v)), bins)\n",
    "\n",
    "    # Plot\n",
    "    plt.hist(v, bins=logbins, **kwargs)\n",
    "    plt.xscale(\"log\")"
   ]
  },
  {
   "cell_type": "code",
   "execution_count": 31,
   "metadata": {
    "ExecuteTime": {
     "end_time": "2018-03-06T12:16:49.104978Z",
     "start_time": "2018-03-06T12:16:38.302742Z"
    },
    "scrolled": false
   },
   "outputs": [
    {
     "data": {
      "image/png": "[encoded data removed]",
      "text/plain": [
       "<matplotlib.figure.Figure at 0x7f1799967a20>"
      ]
     },
     "metadata": {},
     "output_type": "display_data"
    },
    {
     "data": {
      "image/png": "[encoded data removed]",
      "text/plain": [
       "<matplotlib.figure.Figure at 0x7f1799118748>"
      ]
     },
     "metadata": {},
     "output_type": "display_data"
    }
   ],
   "source": [
    "label_and_scale = [\n",
    "#     ('Megameters', 1e-6),\n",
    "#     ('100 Kilometers', 1e-5),\n",
    "#     ('10 Kilometers', 1e-4),\n",
    "    ('Kilometers', 1e-3),\n",
    "#     ('100 Meters', 1e-2),\n",
    "#     ('10 Meters', 1e-1),\n",
    "    ('Meters', 1),\n",
    "#     ('10 Centimeters', 1e1),\n",
    "#     ('Centimeters', 1e2),\n",
    "#     ('Millimeters', 1e3)\n",
    "]\n",
    "\n",
    "for label, scale in label_and_scale:\n",
    "    _distances = scale * distances\n",
    "\n",
    "    plt.figure(None, (16, 15))\n",
    "    plt.subplot(4, 1, 1)\n",
    "    plt.title(\"_\"*105 + \"\\n\\n\" + label + \"\\n\", fontweight=\"bold\", fontsize=16)\n",
    "    plt_log_hist(_distances, bins=100, histtype='stepfilled', normed=False)\n",
    "    plt.subplot(4, 1, 2)\n",
    "    plt_log_hist(_distances, bins=100, histtype='stepfilled', normed=False)\n",
    "    plt.yscale(\"log\")\n",
    "    plt.subplot(4, 1, 3)\n",
    "    plt_log_hist(_distances, bins=100, histtype='stepfilled', normed=True)\n",
    "    plt.subplot(4, 1, 4)\n",
    "    plt_log_hist(_distances, bins=100, histtype='stepfilled', normed=True)\n",
    "    plt.yscale(\"log\")\n",
    "    plt.show()"
   ]
  },
  {
   "cell_type": "code",
   "execution_count": 19,
   "metadata": {
    "ExecuteTime": {
     "end_time": "2018-03-06T12:10:14.916606Z",
     "start_time": "2018-03-06T12:10:14.550464Z"
    }
   },
   "outputs": [
    {
     "data": {
      "image/png": "[encoded data removed]",
      "text/plain": [
       "<matplotlib.figure.Figure at 0x7f17993c2f98>"
      ]
     },
     "metadata": {},
     "output_type": "display_data"
    }
   ],
   "source": [
    "\n",
    "hist, edges = np.histogram(distances, density=True)\n",
    "\n",
    "plt.show()"
   ]
  },
  {
   "cell_type": "markdown",
   "metadata": {},
   "source": [
    "# Individual level"
   ]
  },
  {
   "cell_type": "code",
   "execution_count": 67,
   "metadata": {
    "ExecuteTime": {
     "end_time": "2018-01-08T08:15:45.291971Z",
     "start_time": "2018-01-08T08:15:42.206492Z"
    }
   },
   "outputs": [],
   "source": [
    "# Compute trip distances for all users\n",
    "user_distances = []\n",
    "for u in users:\n",
    "    coords_u = np.array(df_stops.loc[df_stops['user'] == u].sort_values(\"timestamp\")[['lat', 'lon']])\n",
    "    user_distances.append(haversine(coords_u[:-1, :], coords_u[1:, :]))"
   ]
  },
  {
   "cell_type": "code",
   "execution_count": 86,
   "metadata": {
    "ExecuteTime": {
     "end_time": "2018-01-08T08:26:26.508114Z",
     "start_time": "2018-01-08T08:26:26.501894Z"
    }
   },
   "outputs": [],
   "source": [
    "# Sort users by most active\n",
    "users_activity_sorted = sorted(users, key=lambda i: len(user_distances[i]), reverse=True)"
   ]
  },
  {
   "cell_type": "code",
   "execution_count": 106,
   "metadata": {
    "ExecuteTime": {
     "end_time": "2018-01-08T08:31:54.146067Z",
     "start_time": "2018-01-08T08:31:49.156210Z"
    }
   },
   "outputs": [
    {
     "data": {
      "image/png": "[encoded data removed]",
      "text/plain": [
       "<matplotlib.figure.Figure at 0x7f321a566c10>"
      ]
     },
     "metadata": {},
     "output_type": "display_data"
    },
    {
     "data": {
      "image/png": "[encoded data removed]",
      "text/plain": [
       "<matplotlib.figure.Figure at 0x7f321579d510>"
      ]
     },
     "metadata": {},
     "output_type": "display_data"
    },
    {
     "data": {
      "image/png": "[encoded data removed]",
      "text/plain": [
       "<matplotlib.figure.Figure at 0x7f3213eb1f50>"
      ]
     },
     "metadata": {},
     "output_type": "display_data"
    }
   ],
   "source": [
    "for i, u in enumerate(users_activity_sorted):\n",
    "    plt.figure(None, (15, 4))\n",
    "    plt.title(\"User: %d\" % u)\n",
    "    plt_log_hist(user_distances[users_activity_sorted[u]], bins=100, histtype='stepfilled')\n",
    "    plt.xlim(1e-2, 1e6)\n",
    "    plt.show()\n",
    "    \n",
    "    if i >= 2:\n",
    "        break"
   ]
  },
  {
   "cell_type": "code",
   "execution_count": null,
   "metadata": {},
   "outputs": [],
   "source": []
  }
 ],
 "metadata": {
  "kernelspec": {
   "display_name": "Python 2",
   "language": "python",
   "name": "python2"
  },
  "language_info": {
   "codemirror_mode": {
    "name": "ipython",
    "version": 3
   },
   "file_extension": ".py",
   "mimetype": "text/x-python",
   "name": "python",
   "nbconvert_exporter": "python",
   "pygments_lexer": "ipython3",
   "version": "3.6.3"
  },
  "nav_menu": {},
  "toc": {
   "navigate_menu": true,
   "number_sections": true,
   "sideBar": true,
   "threshold": 6,
   "toc_cell": false,
   "toc_section_display": "block",
   "toc_window_display": true
  }
 },
 "nbformat": 4,
 "nbformat_minor": 1
}
